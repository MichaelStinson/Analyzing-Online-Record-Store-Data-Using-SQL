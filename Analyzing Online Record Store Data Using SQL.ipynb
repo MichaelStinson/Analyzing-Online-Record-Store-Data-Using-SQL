{
 "cells": [
  {
   "cell_type": "markdown",
   "metadata": {},
   "source": [
    "# Analyzing Online Record Store Data Using SQL\n",
    "\n",
    "## Open the db\n",
    "Open the db file and look at basic information about which tables are available "
   ]
  },
  {
   "cell_type": "code",
   "execution_count": 51,
   "metadata": {},
   "outputs": [],
   "source": [
    "%%capture\n",
    "%load_ext sql\n",
    "%sql sqlite:///chinook.db"
   ]
  },
  {
   "cell_type": "code",
   "execution_count": 52,
   "metadata": {},
   "outputs": [
    {
     "name": "stdout",
     "output_type": "stream",
     "text": [
      " * sqlite:///chinook.db\n",
      "Done.\n"
     ]
    },
    {
     "data": {
      "text/html": [
       "<table>\n",
       "    <thead>\n",
       "        <tr>\n",
       "            <th>name</th>\n",
       "            <th>type</th>\n",
       "        </tr>\n",
       "    </thead>\n",
       "    <tbody>\n",
       "        <tr>\n",
       "            <td>album</td>\n",
       "            <td>table</td>\n",
       "        </tr>\n",
       "        <tr>\n",
       "            <td>artist</td>\n",
       "            <td>table</td>\n",
       "        </tr>\n",
       "        <tr>\n",
       "            <td>customer</td>\n",
       "            <td>table</td>\n",
       "        </tr>\n",
       "        <tr>\n",
       "            <td>employee</td>\n",
       "            <td>table</td>\n",
       "        </tr>\n",
       "        <tr>\n",
       "            <td>genre</td>\n",
       "            <td>table</td>\n",
       "        </tr>\n",
       "        <tr>\n",
       "            <td>invoice</td>\n",
       "            <td>table</td>\n",
       "        </tr>\n",
       "        <tr>\n",
       "            <td>invoice_line</td>\n",
       "            <td>table</td>\n",
       "        </tr>\n",
       "        <tr>\n",
       "            <td>media_type</td>\n",
       "            <td>table</td>\n",
       "        </tr>\n",
       "        <tr>\n",
       "            <td>playlist</td>\n",
       "            <td>table</td>\n",
       "        </tr>\n",
       "        <tr>\n",
       "            <td>playlist_track</td>\n",
       "            <td>table</td>\n",
       "        </tr>\n",
       "        <tr>\n",
       "            <td>track</td>\n",
       "            <td>table</td>\n",
       "        </tr>\n",
       "    </tbody>\n",
       "</table>"
      ],
      "text/plain": [
       "[('album', 'table'),\n",
       " ('artist', 'table'),\n",
       " ('customer', 'table'),\n",
       " ('employee', 'table'),\n",
       " ('genre', 'table'),\n",
       " ('invoice', 'table'),\n",
       " ('invoice_line', 'table'),\n",
       " ('media_type', 'table'),\n",
       " ('playlist', 'table'),\n",
       " ('playlist_track', 'table'),\n",
       " ('track', 'table')]"
      ]
     },
     "execution_count": 52,
     "metadata": {},
     "output_type": "execute_result"
    }
   ],
   "source": [
    "%%sql\n",
    "SELECT\n",
    "    name,\n",
    "    type\n",
    "FROM sqlite_master\n",
    "WHERE type IN (\"table\",\"view\");"
   ]
  },
  {
   "cell_type": "markdown",
   "metadata": {},
   "source": [
    "## Answer questions about the data"
   ]
  },
  {
   "cell_type": "markdown",
   "metadata": {},
   "source": [
    "Write a query that returns each genre, with the number of tracks sold in the USA"
   ]
  },
  {
   "cell_type": "code",
   "execution_count": 53,
   "metadata": {},
   "outputs": [
    {
     "name": "stdout",
     "output_type": "stream",
     "text": [
      " * sqlite:///chinook.db\n",
      "Done.\n"
     ]
    },
    {
     "data": {
      "text/html": [
       "<table>\n",
       "    <thead>\n",
       "        <tr>\n",
       "            <th>genre</th>\n",
       "            <th>count</th>\n",
       "            <th>percentage</th>\n",
       "        </tr>\n",
       "    </thead>\n",
       "    <tbody>\n",
       "        <tr>\n",
       "            <td>Rock</td>\n",
       "            <td>561</td>\n",
       "            <td>53.37773549000951</td>\n",
       "        </tr>\n",
       "        <tr>\n",
       "            <td>Alternative &amp; Punk</td>\n",
       "            <td>130</td>\n",
       "            <td>12.369172216936251</td>\n",
       "        </tr>\n",
       "        <tr>\n",
       "            <td>Metal</td>\n",
       "            <td>124</td>\n",
       "            <td>11.798287345385347</td>\n",
       "        </tr>\n",
       "        <tr>\n",
       "            <td>R&amp;B/Soul</td>\n",
       "            <td>53</td>\n",
       "            <td>5.042816365366318</td>\n",
       "        </tr>\n",
       "        <tr>\n",
       "            <td>Blues</td>\n",
       "            <td>36</td>\n",
       "            <td>3.4253092293054235</td>\n",
       "        </tr>\n",
       "        <tr>\n",
       "            <td>Alternative</td>\n",
       "            <td>35</td>\n",
       "            <td>3.330161750713606</td>\n",
       "        </tr>\n",
       "        <tr>\n",
       "            <td>Pop</td>\n",
       "            <td>22</td>\n",
       "            <td>2.093244529019981</td>\n",
       "        </tr>\n",
       "        <tr>\n",
       "            <td>Latin</td>\n",
       "            <td>22</td>\n",
       "            <td>2.093244529019981</td>\n",
       "        </tr>\n",
       "        <tr>\n",
       "            <td>Hip Hop/Rap</td>\n",
       "            <td>20</td>\n",
       "            <td>1.9029495718363463</td>\n",
       "        </tr>\n",
       "        <tr>\n",
       "            <td>Jazz</td>\n",
       "            <td>14</td>\n",
       "            <td>1.3320647002854424</td>\n",
       "        </tr>\n",
       "        <tr>\n",
       "            <td>Easy Listening</td>\n",
       "            <td>13</td>\n",
       "            <td>1.236917221693625</td>\n",
       "        </tr>\n",
       "        <tr>\n",
       "            <td>Reggae</td>\n",
       "            <td>6</td>\n",
       "            <td>0.570884871550904</td>\n",
       "        </tr>\n",
       "        <tr>\n",
       "            <td>Electronica/Dance</td>\n",
       "            <td>5</td>\n",
       "            <td>0.47573739295908657</td>\n",
       "        </tr>\n",
       "        <tr>\n",
       "            <td>Classical</td>\n",
       "            <td>4</td>\n",
       "            <td>0.38058991436726924</td>\n",
       "        </tr>\n",
       "        <tr>\n",
       "            <td>Heavy Metal</td>\n",
       "            <td>3</td>\n",
       "            <td>0.285442435775452</td>\n",
       "        </tr>\n",
       "        <tr>\n",
       "            <td>Soundtrack</td>\n",
       "            <td>2</td>\n",
       "            <td>0.19029495718363462</td>\n",
       "        </tr>\n",
       "        <tr>\n",
       "            <td>TV Shows</td>\n",
       "            <td>1</td>\n",
       "            <td>0.09514747859181731</td>\n",
       "        </tr>\n",
       "    </tbody>\n",
       "</table>"
      ],
      "text/plain": [
       "[('Rock', 561, 53.37773549000951),\n",
       " ('Alternative & Punk', 130, 12.369172216936251),\n",
       " ('Metal', 124, 11.798287345385347),\n",
       " ('R&B/Soul', 53, 5.042816365366318),\n",
       " ('Blues', 36, 3.4253092293054235),\n",
       " ('Alternative', 35, 3.330161750713606),\n",
       " ('Pop', 22, 2.093244529019981),\n",
       " ('Latin', 22, 2.093244529019981),\n",
       " ('Hip Hop/Rap', 20, 1.9029495718363463),\n",
       " ('Jazz', 14, 1.3320647002854424),\n",
       " ('Easy Listening', 13, 1.236917221693625),\n",
       " ('Reggae', 6, 0.570884871550904),\n",
       " ('Electronica/Dance', 5, 0.47573739295908657),\n",
       " ('Classical', 4, 0.38058991436726924),\n",
       " ('Heavy Metal', 3, 0.285442435775452),\n",
       " ('Soundtrack', 2, 0.19029495718363462),\n",
       " ('TV Shows', 1, 0.09514747859181731)]"
      ]
     },
     "execution_count": 53,
     "metadata": {},
     "output_type": "execute_result"
    }
   ],
   "source": [
    "%%sql\n",
    "WITH\n",
    "track_with_genre AS\n",
    "(\n",
    "    SELECT\n",
    "        t.*,\n",
    "        g.name genre\n",
    "    FROM track t\n",
    "    LEFT JOIN genre g ON g.genre_id = t.genre_id\n",
    "),\n",
    "\n",
    "track_with_num_sold AS\n",
    "(\n",
    "    SELECT\n",
    "        t.*,\n",
    "        il.invoice_id,\n",
    "        il.quantity\n",
    "    FROM track_with_genre t\n",
    "    LEFT JOIN invoice_line il ON il.track_id = t.track_id\n",
    "    INNER JOIN invoice i ON i.invoice_id = il.invoice_id\n",
    "    INNER JOIN customer c ON c.customer_id = i.customer_id \n",
    "    WHERE c.country = 'USA'\n",
    ")\n",
    "\n",
    "SELECT \n",
    "    genre, \n",
    "    COUNT(*) count,\n",
    "    100.0 * COUNT(*) / (SELECT COUNT(*) FROM track_with_num_sold) percentage\n",
    "FROM track_with_num_sold\n",
    "GROUP BY genre\n",
    "ORDER BY count DESC;"
   ]
  },
  {
   "cell_type": "markdown",
   "metadata": {},
   "source": [
    "Each customer for the Chinook store gets assigned to a sales support agent within the company when they first make a purchase. You have been asked to analyze the purchases of customers belonging to each employee to see if any sales support agent is performing either better or worse than the others.\n",
    "\n",
    "You might like to consider whether any extra columns from the employee table explain any variance you see, or whether the variance might instead be indicative of employee performance.\n",
    "\n",
    "Write a query that finds the total dollar amount of sales assigned to each sales support agent within the company. Add any extra attributes for that employee that you find are relevant to the analysis."
   ]
  },
  {
   "cell_type": "code",
   "execution_count": 54,
   "metadata": {},
   "outputs": [
    {
     "name": "stdout",
     "output_type": "stream",
     "text": [
      " * sqlite:///chinook.db\n",
      "Done.\n"
     ]
    },
    {
     "data": {
      "text/html": [
       "<table>\n",
       "    <thead>\n",
       "        <tr>\n",
       "            <th>name</th>\n",
       "            <th>total_sales</th>\n",
       "            <th>num_customers</th>\n",
       "            <th>avg_sales_per_customer</th>\n",
       "        </tr>\n",
       "    </thead>\n",
       "    <tbody>\n",
       "        <tr>\n",
       "            <td>Jane Peacock</td>\n",
       "            <td>1731.5100000000039</td>\n",
       "            <td>21</td>\n",
       "            <td>82.45285714285733</td>\n",
       "        </tr>\n",
       "        <tr>\n",
       "            <td>Margaret Park</td>\n",
       "            <td>1584.0000000000034</td>\n",
       "            <td>20</td>\n",
       "            <td>79.20000000000017</td>\n",
       "        </tr>\n",
       "        <tr>\n",
       "            <td>Steve Johnson</td>\n",
       "            <td>1393.920000000002</td>\n",
       "            <td>18</td>\n",
       "            <td>77.44000000000011</td>\n",
       "        </tr>\n",
       "    </tbody>\n",
       "</table>"
      ],
      "text/plain": [
       "[('Jane Peacock', 1731.5100000000039, 21, 82.45285714285733),\n",
       " ('Margaret Park', 1584.0000000000034, 20, 79.20000000000017),\n",
       " ('Steve Johnson', 1393.920000000002, 18, 77.44000000000011)]"
      ]
     },
     "execution_count": 54,
     "metadata": {},
     "output_type": "execute_result"
    }
   ],
   "source": [
    "%%sql\n",
    "WITH employee_with_sales AS\n",
    "(\n",
    "    SELECT\n",
    "        e.first_name || ' ' || e.last_name name,\n",
    "        SUM(i.total) total_sales,\n",
    "        COUNT(DISTINCT c.customer_id) num_customers,\n",
    "        SUM(i.total) / COUNT(DISTINCT c.customer_id) AS avg_sales_per_customer\n",
    "    FROM employee e\n",
    "    LEFT JOIN customer c ON c.support_rep_id = e.employee_id\n",
    "    INNER JOIN invoice i ON i.customer_id = c.customer_id\n",
    "    WHERE e.title = 'Sales Support Agent'\n",
    "    GROUP BY name\n",
    ")\n",
    "\n",
    "SELECT *\n",
    "FROM employee_with_sales\n",
    "ORDER BY total_sales DESC;"
   ]
  }
 ],
 "metadata": {
  "kernelspec": {
   "display_name": "Python 3 (ipykernel)",
   "language": "python",
   "name": "python3"
  },
  "language_info": {
   "codemirror_mode": {
    "name": "ipython",
    "version": 3
   },
   "file_extension": ".py",
   "mimetype": "text/x-python",
   "name": "python",
   "nbconvert_exporter": "python",
   "pygments_lexer": "ipython3",
   "version": "3.9.7"
  }
 },
 "nbformat": 4,
 "nbformat_minor": 2
}
